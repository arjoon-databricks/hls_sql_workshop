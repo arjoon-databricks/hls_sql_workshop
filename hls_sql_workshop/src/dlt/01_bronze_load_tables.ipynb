{
 "cells": [
  {
   "cell_type": "code",
   "execution_count": null,
   "metadata": {
    "application/vnd.databricks.v1+cell": {
     "cellMetadata": {
      "byteLimit": 2048000,
      "rowLimit": 10000
     },
     "inputWidgets": {},
     "nuid": "e096a08c-d08b-451c-b98d-3187d740a740",
     "showTitle": false,
     "tableResultSettingsMap": {},
     "title": ""
    }
   },
   "outputs": [],
   "source": [
    "CREATE STREAMING LIVE TABLE bronze_beneficiary_summary\n",
    "  COMMENT \"raw data for summaries of beneficiaries\"\n",
    "AS \n",
    "SELECT \n",
    "  * \n",
    "  ,current_timestamp as load_timestamp\n",
    "  ,current_timestamp as update_timestamp\n",
    "  ,_metadata\n",
    "FROM cloud_files(\"${pipeline.volume_path}/beneficiary_summary/\", 'csv')"
   ]
  },
  {
   "cell_type": "code",
   "execution_count": null,
   "metadata": {
    "application/vnd.databricks.v1+cell": {
     "cellMetadata": {},
     "inputWidgets": {},
     "nuid": "686ae147-13ee-4c67-9e26-32ebc3506b92",
     "showTitle": false,
     "tableResultSettingsMap": {},
     "title": ""
    }
   },
   "outputs": [],
   "source": [
    "CREATE STREAMING LIVE TABLE bronze_carrier_claims\n",
    "  COMMENT \"raw data for carrier claim transactions\"\n",
    "AS \n",
    "SELECT \n",
    "  * \n",
    "  ,current_timestamp as load_timestamp\n",
    "  ,current_timestamp as update_timestamp\n",
    "  ,_metadata\n",
    "FROM cloud_files(\"${pipeline.volume_path}/carrier_claims/\", 'csv')"
   ]
  },
  {
   "cell_type": "code",
   "execution_count": null,
   "metadata": {
    "application/vnd.databricks.v1+cell": {
     "cellMetadata": {},
     "inputWidgets": {},
     "nuid": "848673a4-c038-4382-85fe-f8decc2d02d4",
     "showTitle": false,
     "tableResultSettingsMap": {},
     "title": ""
    }
   },
   "outputs": [],
   "source": [
    "CREATE STREAMING LIVE TABLE bronze_inpatient_claims\n",
    "  COMMENT \"raw data for inpatient claim transactions\"\n",
    "AS \n",
    "SELECT \n",
    "  * \n",
    "  ,current_timestamp as load_timestamp\n",
    "  ,current_timestamp as update_timestamp\n",
    "  ,_metadata\n",
    "FROM cloud_files(\"${pipeline.volume_path}/inpatient_claims/\", 'csv')"
   ]
  },
  {
   "cell_type": "code",
   "execution_count": null,
   "metadata": {
    "application/vnd.databricks.v1+cell": {
     "cellMetadata": {},
     "inputWidgets": {},
     "nuid": "0984e4fd-5b76-430b-af57-8c3752deb2fa",
     "showTitle": false,
     "tableResultSettingsMap": {},
     "title": ""
    }
   },
   "outputs": [],
   "source": [
    "CREATE STREAMING LIVE TABLE bronze_outpatient_claims\n",
    "  COMMENT \"raw data for outpatient claim transactions\"\n",
    "AS \n",
    "SELECT \n",
    "  * \n",
    "  ,current_timestamp as load_timestamp\n",
    "  ,current_timestamp as update_timestamp\n",
    "  ,_metadata\n",
    "FROM cloud_files(\"${pipeline.volume_path}/outpatient_claims/\", 'csv')"
   ]
  },
  {
   "cell_type": "code",
   "execution_count": null,
   "metadata": {
    "application/vnd.databricks.v1+cell": {
     "cellMetadata": {},
     "inputWidgets": {},
     "nuid": "a4322712-0da6-482d-ba14-a88c31d0a502",
     "showTitle": false,
     "tableResultSettingsMap": {},
     "title": ""
    }
   },
   "outputs": [],
   "source": [
    "CREATE STREAMING LIVE TABLE bronze_prescription_drug_events\n",
    "  COMMENT \"raw data for prescription drug events\"\n",
    "AS \n",
    "SELECT \n",
    "  * \n",
    "  ,current_timestamp as load_timestamp\n",
    "  ,current_timestamp as update_timestamp\n",
    "  ,_metadata\n",
    "FROM cloud_files(\"${pipeline.volume_path}/prescription_drug_events/\", 'csv')"
   ]
  },
  {
   "cell_type": "code",
   "execution_count": null,
   "metadata": {
    "application/vnd.databricks.v1+cell": {
     "cellMetadata": {},
     "inputWidgets": {},
     "nuid": "29112872-ea05-45ac-901e-af6902a4ef2f",
     "showTitle": false,
     "tableResultSettingsMap": {},
     "title": ""
    }
   },
   "outputs": [],
   "source": [
    "CREATE STREAMING LIVE TABLE bronze_icd_codes\n",
    "  COMMENT \"Lookups for icd9 codes\"\n",
    "AS \n",
    "SELECT\n",
    "  * \n",
    "  ,current_timestamp as load_timestamp\n",
    "  ,current_timestamp as update_timestamp\n",
    "  ,_metadata\n",
    "FROM cloud_files(\"${pipeline.volume_path}/icd/\", 'csv')"
   ]
  },
  {
   "cell_type": "code",
   "execution_count": null,
   "metadata": {
    "application/vnd.databricks.v1+cell": {
     "cellMetadata": {},
     "inputWidgets": {},
     "nuid": "ef684cb1-f540-496c-a27f-367817e02d91",
     "showTitle": false,
     "tableResultSettingsMap": {},
     "title": ""
    }
   },
   "outputs": [],
   "source": [
    "CREATE STREAMING LIVE TABLE bronze_npi_code\n",
    "  COMMENT \"Lookups for National Provider Identifier Number\"\n",
    "AS \n",
    "SELECT\n",
    "  * \n",
    "  ,current_timestamp as load_timestamp\n",
    "  ,current_timestamp as update_timestamp\n",
    "  ,_metadata\n",
    "FROM cloud_files(\"${pipeline.volume_path}/npi/\", 'csv')\n"
   ]
  },
  {
   "cell_type": "code",
   "execution_count": null,
   "metadata": {
    "application/vnd.databricks.v1+cell": {
     "cellMetadata": {},
     "inputWidgets": {},
     "nuid": "ec7a21b5-f3eb-44f2-b501-d3d121bfddad",
     "showTitle": false,
     "tableResultSettingsMap": {},
     "title": ""
    }
   },
   "outputs": [],
   "source": [
    "CREATE STREAMING LIVE TABLE bronze_lookup\n",
    "  COMMENT \"Code lookups accross tables\"\n",
    "AS \n",
    "SELECT \n",
    "  * \n",
    "  ,current_timestamp as load_timestamp\n",
    "  ,current_timestamp as update_timestamp\n",
    "  ,_metadata\n",
    "FROM cloud_files(\"${pipeline.volume_path}/lookups/\", 'csv')\n"
   ]
  }
 ],
 "metadata": {
  "application/vnd.databricks.v1+notebook": {
   "dashboards": [],
   "environmentMetadata": null,
   "language": "sql",
   "notebookMetadata": {
    "pythonIndentUnit": 2
   },
   "notebookName": "bronze_table_loads",
   "widgets": {}
  },
  "language_info": {
   "name": "sql"
  }
 },
 "nbformat": 4,
 "nbformat_minor": 0
}
