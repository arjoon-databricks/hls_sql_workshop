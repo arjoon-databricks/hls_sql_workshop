{
 "cells": [
  {
   "cell_type": "markdown",
   "metadata": {
    "application/vnd.databricks.v1+cell": {
     "cellMetadata": {},
     "inputWidgets": {},
     "nuid": "f73b310c-2640-4706-836b-5bd207e34e20",
     "showTitle": false,
     "tableResultSettingsMap": {},
     "title": ""
    }
   },
   "source": [
    "\n",
    "# Accelerating Data Science with Databricks AutoML\n",
    "\n",
    "##  Predicting patient readmission risk: Single click deployment with AutoML\n",
    "\n",
    "<img src=\"https://github.com/databricks-demos/dbdemos-resources/blob/main/images/hls/patient-readmission/patient-risk-ds-flow-2.png?raw=true\" width=\"700px\" style=\"float: right; margin-left: 10px;\" />\n",
    "\n",
    "\n",
    "In this notebook, we will explore how to use Databricks AutoML to generate the best notebooks to predict our patient readmission risk and deploy our model in production.\n",
    "\n",
    "Databricks AutoML allows you to quickly generate baseline models and notebooks. \n",
    "\n",
    "ML experts can accelerate their workflow by fast-forwarding through the usual trial-and-error and focus on customizations using their domain knowledge, and citizen data scientists can quickly achieve usable results with a low-code approach."
   ]
  },
  {
   "cell_type": "code",
   "execution_count": 0,
   "metadata": {
    "application/vnd.databricks.v1+cell": {
     "cellMetadata": {
      "byteLimit": 2048000,
      "rowLimit": 10000
     },
     "inputWidgets": {},
     "nuid": "b8ade79c-f830-47cb-bb99-5fbd473b3fd1",
     "showTitle": false,
     "tableResultSettingsMap": {},
     "title": ""
    }
   },
   "outputs": [],
   "source": [
    "dbutils.widgets.text(\"catalog\", 'ddavis_hls_sql')"
   ]
  },
  {
   "cell_type": "code",
   "execution_count": 0,
   "metadata": {
    "application/vnd.databricks.v1+cell": {
     "cellMetadata": {
      "byteLimit": 2048000,
      "rowLimit": 10000
     },
     "inputWidgets": {},
     "nuid": "b729d0c9-fc4c-4b70-9a51-ebcd90dac597",
     "showTitle": false,
     "tableResultSettingsMap": {},
     "title": ""
    },
    "jupyter": {
     "outputs_hidden": true
    }
   },
   "outputs": [],
   "source": [
    "from pyspark.sql import SparkSession\n",
    "spark: SparkSession\n",
    "\n",
    "catalog = dbutils.widgets.get(\"catalog\")\n",
    "spark.sql(f\"USE {catalog}.ai\")"
   ]
  },
  {
   "cell_type": "code",
   "execution_count": 0,
   "metadata": {
    "application/vnd.databricks.v1+cell": {
     "cellMetadata": {
      "byteLimit": 2048000,
      "rowLimit": 10000
     },
     "inputWidgets": {},
     "nuid": "f636cfb4-ed66-4bb3-a410-baf5b1ca3da8",
     "showTitle": false,
     "tableResultSettingsMap": {},
     "title": ""
    }
   },
   "outputs": [],
   "source": [
    "import mlflow\n",
    "mlflow.set_registry_uri(\"databricks-uc\")"
   ]
  },
  {
   "cell_type": "markdown",
   "metadata": {
    "application/vnd.databricks.v1+cell": {
     "cellMetadata": {},
     "inputWidgets": {},
     "nuid": "fa1fa5e6-b96c-4e83-a4ea-5ee9180b9fa9",
     "showTitle": false,
     "tableResultSettingsMap": {},
     "title": ""
    }
   },
   "source": [
    "### Getting our training dataset \n",
    "\n",
    "Let's use the our training dataset determinining the readmission after 30 days for all our population. We will use that as our training label and what we want our model to predict."
   ]
  },
  {
   "cell_type": "code",
   "execution_count": 0,
   "metadata": {
    "application/vnd.databricks.v1+cell": {
     "cellMetadata": {
      "byteLimit": 2048000,
      "rowLimit": 10000
     },
     "inputWidgets": {},
     "nuid": "5ccabff5-14a5-4a10-bb84-4fcc2a47793f",
     "showTitle": false,
     "tableResultSettingsMap": {},
     "title": ""
    }
   },
   "outputs": [],
   "source": [
    "training_dataset = spark.table(f'{catalog}.ai.training_beneficiary')\n",
    "display(training_dataset)"
   ]
  },
  {
   "cell_type": "markdown",
   "metadata": {
    "application/vnd.databricks.v1+cell": {
     "cellMetadata": {},
     "inputWidgets": {},
     "nuid": "21c6f4c7-4430-4171-9f3c-0b50cba35109",
     "showTitle": false,
     "tableResultSettingsMap": {},
     "title": ""
    }
   },
   "source": [
    "### Define what features to look up for our model\n",
    "\n",
    "Let's only keep the relevant features for our model training. We are removing columns such as `SSN` or `IDs`.\n",
    "\n",
    "This step could also be done selecting the training_dataset table from the UI and selecting the column of interest.\n",
    "\n",
    "*Note: this could also be retrived from our Feature Store tables. For more details on that open the companion notebook.*"
   ]
  },
  {
   "cell_type": "code",
   "execution_count": 0,
   "metadata": {
    "application/vnd.databricks.v1+cell": {
     "cellMetadata": {
      "byteLimit": 2048000,
      "rowLimit": 10000
     },
     "inputWidgets": {},
     "nuid": "06e0be05-1ae2-4d70-9f24-d845261d7966",
     "showTitle": false,
     "tableResultSettingsMap": {},
     "title": ""
    }
   },
   "outputs": [],
   "source": [
    "excluded_columns = ['beneficiary_code', 'claim_amount']\n",
    "excluded_columns"
   ]
  },
  {
   "cell_type": "code",
   "execution_count": 0,
   "metadata": {
    "application/vnd.databricks.v1+cell": {
     "cellMetadata": {},
     "inputWidgets": {},
     "nuid": "13491488-6c77-43a3-a37e-a30c00a6ec0b",
     "showTitle": false,
     "tableResultSettingsMap": {},
     "title": ""
    }
   },
   "outputs": [],
   "source": [
    "feature_lookups = [\n",
    "    {\n",
    "        \"table_name\": \"ddavis_hls_sql.ai.feature_beneficiary\",\n",
    "        \"lookup_key\": [\"beneficiary_code\"]\n",
    "    }\n",
    "]"
   ]
  },
  {
   "cell_type": "code",
   "execution_count": 0,
   "metadata": {
    "application/vnd.databricks.v1+cell": {
     "cellMetadata": {
      "byteLimit": 2048000,
      "rowLimit": 10000
     },
     "inputWidgets": {},
     "nuid": "010bc149-5bf6-4704-9c8a-cd359cbb638b",
     "showTitle": false,
     "tableResultSettingsMap": {},
     "title": ""
    }
   },
   "outputs": [],
   "source": [
    "from databricks import automl\n",
    "\n",
    "summary = automl.regress(\n",
    "    dataset=training_dataset,\n",
    "    target_col=\"claim_amount\",\n",
    "    feature_store_lookups=feature_lookups,\n",
    "    primary_metric=\"mae\",\n",
    "    timeout_minutes=10\n",
    ")"
   ]
  },
  {
   "cell_type": "markdown",
   "metadata": {
    "application/vnd.databricks.v1+cell": {
     "cellMetadata": {},
     "inputWidgets": {},
     "nuid": "15e7bcf8-4b1e-4537-a660-d8075dd663e4",
     "showTitle": false,
     "tableResultSettingsMap": {},
     "title": ""
    }
   },
   "source": [
    "## Deploying our model in production\n",
    "\n",
    "Our model is now ready. We can review the notebook generated by the auto-ml run and customize if if required.\n",
    "\n",
    "For this demo, we'll consider that our model is ready and deploy it in production in our Model Registry:"
   ]
  },
  {
   "cell_type": "code",
   "execution_count": 0,
   "metadata": {
    "application/vnd.databricks.v1+cell": {
     "cellMetadata": {
      "byteLimit": 2048000,
      "rowLimit": 10000
     },
     "inputWidgets": {},
     "nuid": "b86a7154-3bf0-4514-ae9a-26507b8b0f6f",
     "showTitle": false,
     "tableResultSettingsMap": {},
     "title": ""
    }
   },
   "outputs": [],
   "source": [
    "model_name = f\"{catalog}.ai.predict_claims_amount_model\"\n",
    "model_registered = mlflow.register_model(f\"runs:/{summary.best_trial.mlflow_run_id}/model\", model_name)\n",
    "\n",
    "#Move the model in production\n",
    "client = mlflow.tracking.MlflowClient()\n",
    "print(\"registering model version \"+model_registered.version+\" as production model\")\n",
    "client.set_registered_model_alias(model_name, \"Production\", model_registered.version)"
   ]
  },
  {
   "cell_type": "markdown",
   "metadata": {
    "application/vnd.databricks.v1+cell": {
     "cellMetadata": {},
     "inputWidgets": {},
     "nuid": "70a76116-cb2a-4095-b5af-f98aecfb6392",
     "showTitle": false,
     "tableResultSettingsMap": {},
     "title": ""
    }
   },
   "source": [
    "We just moved our automl model as production ready! \n",
    "\n",
    "Open [the dbdemos_hls_patient_readmission model](#mlflow/models/dbdemos_hls_patient_readmission) to explore its artifact and analyze the parameters used, including traceability to the notebook used for its creation."
   ]
  },
  {
   "cell_type": "markdown",
   "metadata": {
    "application/vnd.databricks.v1+cell": {
     "cellMetadata": {},
     "inputWidgets": {},
     "nuid": "74cdabfc-03bb-4512-b71f-342a37e89938",
     "showTitle": false,
     "tableResultSettingsMap": {},
     "title": ""
    }
   },
   "source": [
    "\n",
    "## Our model predicting default risks is now deployed in production\n",
    "\n",
    "So far we have:\n",
    "* ingested all required data in a single source of truth using the OMOP data model,\n",
    "* properly secured all data (including granting granular access controls, masked PII data, applied column level filtering),\n",
    "* enhanced that data through feature engineering (and Feature Store as an option),\n",
    "* used MLFlow AutoML to track experiments and build a machine learning model,\n",
    "* registered the model.\n",
    "\n",
    "### Next steps\n",
    "We're now ready to use our model use it for:\n",
    "\n",
    "- Batch inferences in notebook [04.3-Batch-Scoring-patient-readmission]($./04.3-Batch-Scoring-patient-readmission) to start using it for identifying patient at risk and providing cusom care to reduce readmission risk,\n",
    "- Real time inference with [04.4-Model-Serving-patient-readmission]($./04.4-Model-Serving-patient-readmission) to enable realtime capabilities and instantly get insight for a specific patient.\n",
    "- Explain model for our entire population or a specific patient to understand the risk factors and further personalize care with [04.5-Explainability-patient-readmission]($./04.5-Explainability-patient-readmission)"
   ]
  }
 ],
 "metadata": {
  "application/vnd.databricks.v1+notebook": {
   "dashboards": [],
   "environmentMetadata": null,
   "language": "python",
   "notebookMetadata": {
    "pythonIndentUnit": 2
   },
   "notebookName": "99_automl_train_and_register_model",
   "widgets": {
    "catalog": {
     "currentValue": "ddavis_hls_sql",
     "nuid": "025bab71-80a0-43ae-80cf-196d75185843",
     "typedWidgetInfo": {
      "autoCreated": false,
      "defaultValue": "",
      "label": "Catalog",
      "name": "catalog",
      "options": {
       "widgetDisplayType": "Text",
       "validationRegex": null
      },
      "parameterDataType": "String"
     },
     "widgetInfo": {
      "widgetType": "text",
      "defaultValue": "",
      "label": "Catalog",
      "name": "catalog",
      "options": {
       "widgetType": "text",
       "autoCreated": null,
       "validationRegex": null
      }
     }
    },
    "schema": {
     "currentValue": "ai",
     "nuid": "d1754193-450d-4e0c-97ad-1da8c3d49bca",
     "typedWidgetInfo": {
      "autoCreated": false,
      "defaultValue": "",
      "label": "Schema",
      "name": "schema",
      "options": {
       "widgetDisplayType": "Text",
       "validationRegex": null
      },
      "parameterDataType": "String"
     },
     "widgetInfo": {
      "widgetType": "text",
      "defaultValue": "",
      "label": "Schema",
      "name": "schema",
      "options": {
       "widgetType": "text",
       "autoCreated": null,
       "validationRegex": null
      }
     }
    }
   }
  },
  "kernelspec": {
   "display_name": "readmissions-demo-nX_07FjD-py3.11",
   "language": "python",
   "name": "python3"
  },
  "language_info": {
   "name": "python"
  }
 },
 "nbformat": 4,
 "nbformat_minor": 0
}
