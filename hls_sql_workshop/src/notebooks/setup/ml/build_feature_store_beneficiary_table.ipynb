{
 "cells": [
  {
   "cell_type": "code",
   "execution_count": 0,
   "metadata": {
    "application/vnd.databricks.v1+cell": {
     "cellMetadata": {},
     "inputWidgets": {},
     "nuid": "bd96bb0f-13aa-4410-8525-f0ca3a16f636",
     "showTitle": false,
     "tableResultSettingsMap": {},
     "title": ""
    }
   },
   "outputs": [],
   "source": [
    "%sql\n",
    "dbutils.widgets.text('catalog',' my_catalog')\n",
    "catalog = dbutils.widgets.get('catalog')\n",
    "print(f'catalog = {catalog}')"
   ]
  },
  {
   "cell_type": "code",
   "execution_count": 0,
   "metadata": {
    "application/vnd.databricks.v1+cell": {
     "cellMetadata": {},
     "inputWidgets": {},
     "nuid": "5e96404d-00de-426a-95ae-023ae581f2a8",
     "showTitle": false,
     "tableResultSettingsMap": {},
     "title": ""
    }
   },
   "outputs": [],
   "source": [
    "%sql\n",
    "use catalog ${catalog};"
   ]
  },
  {
   "cell_type": "code",
   "execution_count": 0,
   "metadata": {
    "application/vnd.databricks.v1+cell": {
     "cellMetadata": {
      "byteLimit": 2048000,
      "rowLimit": 10000
     },
     "inputWidgets": {},
     "nuid": "64d1c4fb-d428-411c-aa91-b25dc965c22f",
     "showTitle": false,
     "tableResultSettingsMap": {},
     "title": ""
    }
   },
   "outputs": [],
   "source": [
    "%sql\n",
    "create table if not exists ai.feature_beneficiary(\n",
    "    beneficiary_code string not null\n",
    "    ,date_of_birth date\n",
    "    ,date_of_death date\n",
    "    ,gender string\n",
    "    ,race string\n",
    "    ,esrd_flag string\n",
    "    ,state string\n",
    "    ,county_code string\n",
    "    ,heart_failure_flag string\n",
    "    ,cronic_kidney_disease_flag string\n",
    "    ,cancer_flag string\n",
    "    ,copd_flag string\n",
    "    ,depression_flag string\n",
    "    ,diabetes_flag string\n",
    "    ,ischemic_heart_disease_flag string\n",
    "    ,osteoporosis_flag string\n",
    "    ,asrheumatoid_arthritis_flag string\n",
    "    ,stroke_transient_ischemic_attack_flag string\n",
    "\n",
    "    ,CONSTRAINT feature_beneficiary_pk PRIMARY KEY(beneficiary_code)\n",
    ");"
   ]
  },
  {
   "cell_type": "code",
   "execution_count": 0,
   "metadata": {
    "application/vnd.databricks.v1+cell": {
     "cellMetadata": {
      "byteLimit": 2048000,
      "rowLimit": 10000
     },
     "inputWidgets": {},
     "nuid": "41bc47b2-f9b6-48b4-b8cb-a1ef7805fe83",
     "showTitle": false,
     "tableResultSettingsMap": {},
     "title": ""
    }
   },
   "outputs": [],
   "source": [
    "%sql\n",
    "create temporary view vw_feature_beneficiary\n",
    "as\n",
    "select\n",
    "     beneficiary_code\n",
    "    ,date_of_birth\n",
    "    ,date_of_death\n",
    "    ,gender\n",
    "    ,race\n",
    "    ,esrd_flag\n",
    "    ,state\n",
    "    ,county_code\n",
    "    ,heart_failure_flag\n",
    "    ,cronic_kidney_disease_flag\n",
    "    ,cancer_flag\n",
    "    ,copd_flag\n",
    "    ,depression_flag\n",
    "    ,diabetes_flag\n",
    "    ,ischemic_heart_disease_flag\n",
    "    ,osteoporosis_flag\n",
    "    ,asrheumatoid_arthritis_flag\n",
    "    ,stroke_transient_ischemic_attack_flag\n",
    "from cms.gold_dim_beneficiary\n",
    "where __end_at is null"
   ]
  },
  {
   "cell_type": "code",
   "execution_count": 0,
   "metadata": {
    "application/vnd.databricks.v1+cell": {
     "cellMetadata": {
      "byteLimit": 2048000,
      "rowLimit": 10000
     },
     "inputWidgets": {},
     "nuid": "a9d88615-d594-4ad2-b4a4-76c3b196f3fb",
     "showTitle": false,
     "tableResultSettingsMap": {},
     "title": ""
    }
   },
   "outputs": [],
   "source": [
    "%sql\n",
    "MERGE INTO ai.feature_beneficiary\n",
    "USING vw_feature_beneficiary\n",
    "  ON vw_feature_beneficiary.beneficiary_code = ai.feature_beneficiary.beneficiary_code\n",
    "WHEN MATCHED THEN UPDATE SET *\n",
    "WHEN NOT MATCHED THEN INSERT *"
   ]
  },
  {
   "cell_type": "code",
   "execution_count": 0,
   "metadata": {
    "application/vnd.databricks.v1+cell": {
     "cellMetadata": {
      "byteLimit": 2048000,
      "rowLimit": 10000
     },
     "inputWidgets": {},
     "nuid": "a198342b-e818-4f98-ae2e-333d0717e2e2",
     "showTitle": false,
     "tableResultSettingsMap": {},
     "title": ""
    }
   },
   "outputs": [],
   "source": [
    "%sql\n",
    "select * from ai.feature_beneficiary\n",
    "limit 100"
   ]
  },
  {
   "cell_type": "code",
   "execution_count": 0,
   "metadata": {
    "application/vnd.databricks.v1+cell": {
     "cellMetadata": {
      "byteLimit": 2048000,
      "rowLimit": 10000
     },
     "inputWidgets": {},
     "nuid": "32525a9c-165d-455a-9bcb-32edefab04e3",
     "showTitle": false,
     "tableResultSettingsMap": {},
     "title": ""
    }
   },
   "outputs": [],
   "source": []
  }
 ],
 "metadata": {
  "application/vnd.databricks.v1+notebook": {
   "dashboards": [],
   "environmentMetadata": {
    "base_environment": "",
    "client": "1"
   },
   "language": "python",
   "notebookMetadata": {
    "pythonIndentUnit": 2
   },
   "notebookName": "Feature Store - Beneficiary",
   "widgets": {}
  },
  "language_info": {
   "name": "python"
  }
 },
 "nbformat": 4,
 "nbformat_minor": 0
}