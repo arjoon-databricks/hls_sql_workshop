{
 "cells": [
  {
   "cell_type": "code",
   "execution_count": null,
   "metadata": {},
   "outputs": [],
   "source": [
    "dbutils.widgets.text('catalog','ddavis_hls_sql')\n",
    "catalog = dbutils.widgets.get('catalog')\n",
    "print(f'catalog = {catalog}')"
   ]
  },
  {
   "cell_type": "code",
   "execution_count": null,
   "metadata": {},
   "outputs": [],
   "source": [
    "from mlflow.deployments import get_deploy_client\n",
    "\n",
    "client = get_deploy_client(\"databricks\")\n",
    "\n",
    "# ignore \"already exists\" error\n",
    "try:\n",
    "    endpoint = client.create_endpoint(\n",
    "        name=\"predict_claims_amount\",\n",
    "        config={\n",
    "            \"served_entities\": [\n",
    "                {\n",
    "                    \"name\": \"predict_claims_amount_entity\",\n",
    "                    \"entity_name\": f\"{catalog}.ai.predict_claims_amount_model\",\n",
    "                    \"entity_version\": \"1\",\n",
    "                    \"workload_size\": \"Small\",\n",
    "                    \"scale_to_zero_enabled\": True\n",
    "                }\n",
    "            ]\n",
    "        }\n",
    "    )\n",
    "except Exception as e:\n",
    " if \"already exists\" in str(e):\n",
    "   pass\n",
    " else:\n",
    "   raise e"
   ]
  }
 ],
 "metadata": {
  "language_info": {
   "name": "python"
  }
 },
 "nbformat": 4,
 "nbformat_minor": 2
}
