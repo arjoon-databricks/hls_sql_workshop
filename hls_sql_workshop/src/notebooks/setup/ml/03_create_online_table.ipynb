{
 "cells": [
  {
   "cell_type": "code",
   "execution_count": 0,
   "metadata": {
    "application/vnd.databricks.v1+cell": {
     "cellMetadata": {},
     "inputWidgets": {},
     "nuid": "91dbc644-6a94-4bf3-be03-8044a429b829",
     "showTitle": false,
     "tableResultSettingsMap": {},
     "title": ""
    }
   },
   "outputs": [],
   "source": [
    "dbutils.widgets.text('catalog','ddavis_hls_sql')\n",
    "catalog = dbutils.widgets.get('catalog')\n",
    "print(f'catalog = {catalog}')"
   ]
  },
  {
   "cell_type": "code",
   "execution_count": 0,
   "metadata": {
    "application/vnd.databricks.v1+cell": {
     "cellMetadata": {},
     "inputWidgets": {},
     "nuid": "265e5386-0113-4eaa-8faa-eb6d0dc4b546",
     "showTitle": false,
     "tableResultSettingsMap": {},
     "title": ""
    }
   },
   "outputs": [],
   "source": [
    "from pprint import pprint\n",
    "from databricks.sdk import WorkspaceClient\n",
    "from databricks.sdk.service.catalog import *\n",
    "\n",
    "w = WorkspaceClient()\n",
    "\n",
    "# Create an online table\n",
    "spec = OnlineTableSpec(\n",
    "  primary_key_columns=[\"beneficiary_code\"],\n",
    "  source_table_full_name=f\"{catalog}.ai.feature_beneficiary\",\n",
    "  run_triggered={\"full_refresh\": True}\n",
    "  )\n",
    "\n",
    "# ignore \"already exists\" error\n",
    "try:\n",
    " online_table_pipeline = w.online_tables.create(name=f'{catalog}.ai.feature_beneficiary_online', spec=spec)\n",
    "except Exception as e:\n",
    " if \"already exists\" in str(e):\n",
    "   pass\n",
    " else:\n",
    "   raise e"
   ]
  }
 ],
 "metadata": {
  "application/vnd.databricks.v1+notebook": {
   "dashboards": [],
   "environmentMetadata": null,
   "language": "python",
   "notebookMetadata": {
    "pythonIndentUnit": 2
   },
   "notebookName": "03_create_online_table",
   "widgets": {}
  },
  "language_info": {
   "name": "python"
  }
 },
 "nbformat": 4,
 "nbformat_minor": 0
}
