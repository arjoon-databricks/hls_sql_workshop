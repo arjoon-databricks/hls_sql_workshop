{
 "cells": [
  {
   "cell_type": "code",
   "execution_count": 0,
   "metadata": {
    "application/vnd.databricks.v1+cell": {
     "cellMetadata": {},
     "inputWidgets": {},
     "nuid": "d879ada5-38de-4dcf-92bf-3d95cc22b7bf",
     "showTitle": true,
     "tableResultSettingsMap": {},
     "title": "define widgets"
    }
   },
   "outputs": [],
   "source": [
    "dbutils.widgets.text('catalog',' my_catalog')\n",
    "catalog = dbutils.widgets.get('catalog')\n",
    "print(f'catalog = {catalog})"
   ]
  },
  {
   "cell_type": "code",
   "execution_count": 0,
   "metadata": {
    "application/vnd.databricks.v1+cell": {
     "cellMetadata": {},
     "inputWidgets": {},
     "nuid": "2ed5e7b4-44ff-4f35-93e1-865057ef2d99",
     "showTitle": true,
     "tableResultSettingsMap": {},
     "title": "use catalog"
    }
   },
   "outputs": [],
   "source": [
    "%sql\n",
    "use catalog ${catalog};"
   ]
  },
  {
   "cell_type": "code",
   "execution_count": 0,
   "metadata": {
    "application/vnd.databricks.v1+cell": {
     "cellMetadata": {
      "byteLimit": 2048000,
      "rowLimit": 10000
     },
     "inputWidgets": {},
     "nuid": "0b9bb7a3-9c2d-4321-97c2-f947f3ec834e",
     "showTitle": false,
     "tableResultSettingsMap": {},
     "title": ""
    }
   },
   "outputs": [],
   "source": [
    "create or replace table ai.training_patient_claims\n",
    "as\n",
    "select \n",
    "  beneficiary_code\n",
    "  ,sum(claim_payment_amount) as claim_amount\n",
    "from cms.gold_fact_patient_claims f\n",
    "join cms.gold_dim_beneficiary d on f.beneficiary_key = d.beneficiary_key\n",
    "group by all\n",
    "limit 30000"
   ]
  },
  {
   "cell_type": "code",
   "execution_count": 0,
   "metadata": {
    "application/vnd.databricks.v1+cell": {
     "cellMetadata": {
      "byteLimit": 2048000,
      "rowLimit": 10000
     },
     "inputWidgets": {},
     "nuid": "92cef0d9-6cf9-4eaa-b50a-1d6e81188fde",
     "showTitle": false,
     "tableResultSettingsMap": {},
     "title": ""
    }
   },
   "outputs": [],
   "source": [
    "select * from ai.training_patient_claims limit 100"
   ]
  },
  {
   "cell_type": "code",
   "execution_count": 0,
   "metadata": {
    "application/vnd.databricks.v1+cell": {
     "cellMetadata": {
      "byteLimit": 2048000,
      "rowLimit": 10000
     },
     "inputWidgets": {},
     "nuid": "793a1538-fcb7-49af-824c-ec2be112cd1b",
     "showTitle": false,
     "tableResultSettingsMap": {},
     "title": ""
    }
   },
   "outputs": [],
   "source": [
    "%sql\n",
    "create or replace table ai.scoring_patient_claims\n",
    "select \n",
    "  beneficiary_code\n",
    "  ,named_struct(\"beneficiary_code\",beneficiary_code) as features\n",
    "from ai.training_patient_claims"
   ]
  },
  {
   "cell_type": "code",
   "execution_count": 0,
   "metadata": {
    "application/vnd.databricks.v1+cell": {
     "cellMetadata": {
      "byteLimit": 2048000,
      "rowLimit": 10000
     },
     "collapsed": true,
     "inputWidgets": {},
     "nuid": "d4b307f7-0175-4d92-a58b-c983f84377d1",
     "showTitle": false,
     "tableResultSettingsMap": {},
     "title": ""
    }
   },
   "outputs": [],
   "source": [
    "%sql\n",
    "select * from ai.scoring_patient_claims\n"
   ]
  },
  {
   "cell_type": "code",
   "execution_count": 0,
   "metadata": {
    "application/vnd.databricks.v1+cell": {
     "cellMetadata": {
      "byteLimit": 2048000,
      "rowLimit": 10000
     },
     "inputWidgets": {},
     "nuid": "79716a86-e25b-4fcf-9296-9f4da3d922f8",
     "showTitle": false,
     "tableResultSettingsMap": {},
     "title": ""
    }
   },
   "outputs": [
    {
     "output_type": "display_data",
     "data": {
      "text/html": [
       "<style scoped>\n",
       "  .ansiout {\n",
       "    display: block;\n",
       "    unicode-bidi: embed;\n",
       "    white-space: pre-wrap;\n",
       "    word-wrap: break-word;\n",
       "    word-break: break-all;\n",
       "    font-family: \"Menlo\", \"Monaco\", \"Consolas\", \"Ubuntu Mono\", \"Source Code Pro\", monospace;\n",
       "    font-size: 13px;\n",
       "    color: #555;\n",
       "    margin-left: 4px;\n",
       "    line-height: 19px;\n",
       "  }\n",
       "</style>"
      ]
     },
     "metadata": {
      "application/vnd.databricks.v1+output": {
       "arguments": {},
       "data": "",
       "errorSummary": "[PARSE_SYNTAX_ERROR] Syntax error at or near end of input. SQLSTATE: 42601 line 3, pos 56\n\n== SQL ==\nselect * \nfrom cms.ai.training_patient_claims pc\njoin cms.ai.claim_amt_beneficiary_inference_payload i on\n--------------------------------------------------------^^^",
       "errorTraceType": "raw",
       "metadata": {},
       "type": "ipynbError"
      }
     },
     "output_type": "display_data"
    }
   ],
   "source": [
    "%sql\n",
    "select * \n",
    "from ai.training_patient_claims pc\n",
    "join ai.claim_amt_beneficiary_inference_payload i on "
   ]
  }
 ],
 "metadata": {
  "application/vnd.databricks.v1+notebook": {
   "dashboards": [],
   "environmentMetadata": null,
   "language": "python",
   "notebookMetadata": {
    "pythonIndentUnit": 2
   },
   "notebookName": "training_and_scoring_table",
   "widgets": {}
  },
  "language_info": {
   "name": "python"
  }
 },
 "nbformat": 4,
 "nbformat_minor": 0
}