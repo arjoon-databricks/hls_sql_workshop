{
 "cells": [
  {
   "cell_type": "code",
   "execution_count": null,
   "metadata": {},
   "outputs": [],
   "source": [
    "dbutils.widgets.text('catalog','ddavis_hls_sql')\n",
    "catalog = dbutils.widgets.get('catalog')\n",
    "print(f'catalog = {catalog}')"
   ]
  },
  {
   "cell_type": "code",
   "execution_count": null,
   "metadata": {},
   "outputs": [],
   "source": [
    "from pprint import pprint\n",
    "from databricks.sdk import WorkspaceClient\n",
    "from databricks.sdk.service.catalog import *\n",
    "\n",
    "w = WorkspaceClient()\n",
    "\n",
    "# Create an online table\n",
    "spec = OnlineTableSpec(\n",
    "  primary_key_columns=[\"beneficiary_code\"],\n",
    "  source_table_full_name=f\"{catalog}.ai.feature_beneficiary\",\n",
    "  run_triggered={\"full_refresh\": True}\n",
    "  )\n",
    "\n",
    "# ignore \"already exists\" error\n",
    "try:\n",
    " online_table_pipeline = w.online_tables.create(name=f'{catalog}.ai.feature_beneficiary_online', spec=spec)\n",
    "except Exception as e:\n",
    " if \"already exists\" in str(e):\n",
    "   pass\n",
    " else:\n",
    "   raise e"
   ]
  }
 ],
 "metadata": {
  "language_info": {
   "name": "python"
  }
 },
 "nbformat": 4,
 "nbformat_minor": 2
}
