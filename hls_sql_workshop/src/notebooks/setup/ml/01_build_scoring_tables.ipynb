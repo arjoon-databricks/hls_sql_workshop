{
 "cells": [
  {
   "cell_type": "code",
   "execution_count": null,
   "metadata": {
    "application/vnd.databricks.v1+cell": {
     "cellMetadata": {},
     "inputWidgets": {},
     "nuid": "d879ada5-38de-4dcf-92bf-3d95cc22b7bf",
     "showTitle": true,
     "tableResultSettingsMap": {},
     "title": "define widgets"
    }
   },
   "outputs": [],
   "source": [
    "dbutils.widgets.text('catalog',' my_catalog')\n",
    "catalog = dbutils.widgets.get('catalog')\n",
    "print(f'catalog = {catalog}')"
   ]
  },
  {
   "cell_type": "code",
   "execution_count": null,
   "metadata": {
    "application/vnd.databricks.v1+cell": {
     "cellMetadata": {},
     "inputWidgets": {},
     "nuid": "2ed5e7b4-44ff-4f35-93e1-865057ef2d99",
     "showTitle": true,
     "tableResultSettingsMap": {},
     "title": "use catalog"
    }
   },
   "outputs": [],
   "source": [
    "%sql\n",
    "use catalog ${catalog};"
   ]
  },
  {
   "cell_type": "code",
   "execution_count": null,
   "metadata": {
    "application/vnd.databricks.v1+cell": {
     "cellMetadata": {
      "byteLimit": 2048000,
      "rowLimit": 10000
     },
     "inputWidgets": {},
     "nuid": "793a1538-fcb7-49af-824c-ec2be112cd1b",
     "showTitle": false,
     "tableResultSettingsMap": {},
     "title": ""
    }
   },
   "outputs": [],
   "source": [
    "%sql\n",
    "create or replace table ai.scoring_patient_claims\n",
    "as\n",
    "select \n",
    "  beneficiary_code\n",
    "  ,named_struct(\"beneficiary_code\",beneficiary_code) as features\n",
    "from ai.training_patient_claims"
   ]
  }
 ],
 "metadata": {
  "application/vnd.databricks.v1+notebook": {
   "dashboards": [],
   "environmentMetadata": null,
   "language": "python",
   "notebookMetadata": {
    "pythonIndentUnit": 2
   },
   "notebookName": "training_and_scoring_table",
   "widgets": {}
  },
  "language_info": {
   "name": "python"
  }
 },
 "nbformat": 4,
 "nbformat_minor": 0
}
