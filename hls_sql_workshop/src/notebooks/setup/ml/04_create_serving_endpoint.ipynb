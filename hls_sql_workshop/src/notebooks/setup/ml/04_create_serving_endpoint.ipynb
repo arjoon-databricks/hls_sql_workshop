{
 "cells": [
  {
   "cell_type": "code",
   "execution_count": 0,
   "metadata": {
    "application/vnd.databricks.v1+cell": {
     "cellMetadata": {},
     "inputWidgets": {},
     "nuid": "61c79ea0-98f5-4437-b771-b3982df34014",
     "showTitle": false,
     "tableResultSettingsMap": {},
     "title": ""
    }
   },
   "outputs": [],
   "source": [
    "dbutils.widgets.text('catalog','ddavis_hls_sql')\n",
    "catalog = dbutils.widgets.get('catalog')\n",
    "print(f'catalog = {catalog}')"
   ]
  },
  {
   "cell_type": "code",
   "execution_count": 0,
   "metadata": {
    "application/vnd.databricks.v1+cell": {
     "cellMetadata": {},
     "inputWidgets": {},
     "nuid": "f2a0a0f5-ee04-4780-88d2-c991b4fd5b52",
     "showTitle": false,
     "tableResultSettingsMap": {},
     "title": ""
    }
   },
   "outputs": [],
   "source": [
    "from mlflow.deployments import get_deploy_client\n",
    "\n",
    "client = get_deploy_client(\"databricks\")\n",
    "\n",
    "# ignore \"already exists\" error\n",
    "try:\n",
    "    endpoint = client.create_endpoint(\n",
    "        name=\"predict_claims_amount\",\n",
    "        config={\n",
    "            \"served_entities\": [\n",
    "                {\n",
    "                    \"name\": \"predict_claims_amount_entity\",\n",
    "                    \"entity_name\": f\"{catalog}.ai.predict_claims_amount_model\",\n",
    "                    \"entity_version\": \"1\",\n",
    "                    \"workload_size\": \"Small\",\n",
    "                    \"scale_to_zero_enabled\": True\n",
    "                }\n",
    "            ]\n",
    "        }\n",
    "    )\n",
    "except Exception as e:\n",
    " if \"already exists\" in str(e):\n",
    "   pass\n",
    " else:\n",
    "   raise e"
   ]
  }
 ],
 "metadata": {
  "application/vnd.databricks.v1+notebook": {
   "dashboards": [],
   "environmentMetadata": null,
   "language": "python",
   "notebookMetadata": {
    "pythonIndentUnit": 2
   },
   "notebookName": "04_create_serving_endpoint",
   "widgets": {}
  },
  "language_info": {
   "name": "python"
  }
 },
 "nbformat": 4,
 "nbformat_minor": 0
}
