{
 "cells": [
  {
   "cell_type": "code",
   "execution_count": null,
   "metadata": {
    "application/vnd.databricks.v1+cell": {
     "cellMetadata": {},
     "inputWidgets": {},
     "nuid": "bd96bb0f-13aa-4410-8525-f0ca3a16f636",
     "showTitle": false,
     "tableResultSettingsMap": {},
     "title": ""
    }
   },
   "outputs": [],
   "source": [
    "dbutils.widgets.text('catalog','ddavis_hls_sql')\n",
    "catalog = dbutils.widgets.get('catalog')\n",
    "print(f'catalog = {catalog}')"
   ]
  },
  {
   "cell_type": "code",
   "execution_count": null,
   "metadata": {
    "application/vnd.databricks.v1+cell": {
     "cellMetadata": {},
     "inputWidgets": {},
     "nuid": "5e96404d-00de-426a-95ae-023ae581f2a8",
     "showTitle": false,
     "tableResultSettingsMap": {},
     "title": ""
    }
   },
   "outputs": [],
   "source": [
    "%sql\n",
    "use catalog ${catalog};"
   ]
  },
  {
   "cell_type": "code",
   "execution_count": null,
   "metadata": {
    "application/vnd.databricks.v1+cell": {
     "cellMetadata": {
      "byteLimit": 2048000,
      "rowLimit": 10000
     },
     "inputWidgets": {},
     "nuid": "64d1c4fb-d428-411c-aa91-b25dc965c22f",
     "showTitle": false,
     "tableResultSettingsMap": {},
     "title": ""
    }
   },
   "outputs": [],
   "source": [
    "%sql\n",
    "CREATE OR REPLACE TABLE ai.training_beneficiary(\n",
    "    beneficiary_code string not null\n",
    "    ,date_of_birth date\n",
    "    ,date_of_death date\n",
    "    ,gender string\n",
    "    ,race string\n",
    "    ,esrd_flag string\n",
    "    ,state string\n",
    "    ,county_code string\n",
    "    ,heart_failure_flag string\n",
    "    ,cronic_kidney_disease_flag string\n",
    "    ,cancer_flag string\n",
    "    ,copd_flag string\n",
    "    ,depression_flag string\n",
    "    ,diabetes_flag string\n",
    "    ,ischemic_heart_disease_flag string\n",
    "    ,osteoporosis_flag string\n",
    "    ,asrheumatoid_arthritis_flag string\n",
    "    ,stroke_transient_ischemic_attack_flag string\n",
    "    ,claim_amount double\n",
    "    ,CONSTRAINT training_beneficiary_pk PRIMARY KEY(beneficiary_code)\n",
    ")\n",
    "TBLPROPERTIES (delta.enableChangeDataFeed = true);"
   ]
  },
  {
   "cell_type": "code",
   "execution_count": null,
   "metadata": {
    "application/vnd.databricks.v1+cell": {
     "cellMetadata": {
      "byteLimit": 2048000,
      "rowLimit": 10000
     },
     "inputWidgets": {},
     "nuid": "41bc47b2-f9b6-48b4-b8cb-a1ef7805fe83",
     "showTitle": false,
     "tableResultSettingsMap": {},
     "title": ""
    }
   },
   "outputs": [],
   "source": [
    "%sql\n",
    "CREATE OR REPLACE TEMP VIEW vw_training_beneficiary\n",
    "as\n",
    "SELECT\n",
    "    a.beneficiary_code,\n",
    "    a.date_of_birth,\n",
    "    a.date_of_death,\n",
    "    a.gender,\n",
    "    a.race,\n",
    "    a.esrd_flag,\n",
    "    a.state,\n",
    "    a.county_code,\n",
    "    a.heart_failure_flag,\n",
    "    a.cronic_kidney_disease_flag,\n",
    "    a.cancer_flag,\n",
    "    a.copd_flag,\n",
    "    a.depression_flag,\n",
    "    a.diabetes_flag,\n",
    "    a.ischemic_heart_disease_flag,\n",
    "    a.osteoporosis_flag,\n",
    "    a.asrheumatoid_arthritis_flag,\n",
    "    a.stroke_transient_ischemic_attack_flag,\n",
    "    b.claim_amount\n",
    "FROM\n",
    "    cms.gold_dim_beneficiary AS a\n",
    "INNER JOIN (\n",
    "    SELECT\n",
    "        d.beneficiary_code,\n",
    "        SUM(f.claim_payment_amount) AS claim_amount\n",
    "    FROM\n",
    "        cms.gold_fact_patient_claims AS f\n",
    "    JOIN\n",
    "        cms.gold_dim_beneficiary AS d ON f.beneficiary_key = d.beneficiary_key\n",
    "    GROUP BY\n",
    "        d.beneficiary_code\n",
    "    LIMIT 30000\n",
    ") AS b ON b.beneficiary_code = a.beneficiary_code\n",
    "WHERE\n",
    "    a.__END_AT IS NULL"
   ]
  },
  {
   "cell_type": "code",
   "execution_count": null,
   "metadata": {
    "application/vnd.databricks.v1+cell": {
     "cellMetadata": {
      "byteLimit": 2048000,
      "rowLimit": 10000
     },
     "inputWidgets": {},
     "nuid": "a9d88615-d594-4ad2-b4a4-76c3b196f3fb",
     "showTitle": false,
     "tableResultSettingsMap": {},
     "title": ""
    }
   },
   "outputs": [],
   "source": [
    "%sql\n",
    "MERGE INTO ai.training_beneficiary\n",
    "USING vw_training_beneficiary\n",
    "  ON vw_training_beneficiary.beneficiary_code = ai.training_beneficiary.beneficiary_code\n",
    "WHEN MATCHED THEN UPDATE SET *\n",
    "WHEN NOT MATCHED THEN INSERT *"
   ]
  },
  {
   "cell_type": "code",
   "execution_count": null,
   "metadata": {
    "application/vnd.databricks.v1+cell": {
     "cellMetadata": {
      "byteLimit": 2048000,
      "rowLimit": 10000
     },
     "inputWidgets": {},
     "nuid": "a198342b-e818-4f98-ae2e-333d0717e2e2",
     "showTitle": false,
     "tableResultSettingsMap": {},
     "title": ""
    }
   },
   "outputs": [],
   "source": [
    "%sql\n",
    "select * from ai.training_beneficiary\n",
    "limit 100"
   ]
  },
  {
   "cell_type": "code",
   "execution_count": null,
   "metadata": {},
   "outputs": [],
   "source": [
    "%sql\n",
    "CREATE OR REPLACE TABLE ai.feature_beneficiary(\n",
    "    beneficiary_code string not null\n",
    "    ,date_of_birth date\n",
    "    ,date_of_death date\n",
    "    ,gender string\n",
    "    ,race string\n",
    "    ,esrd_flag string\n",
    "    ,state string\n",
    "    ,county_code string\n",
    "    ,heart_failure_flag string\n",
    "    ,cronic_kidney_disease_flag string\n",
    "    ,cancer_flag string\n",
    "    ,copd_flag string\n",
    "    ,depression_flag string\n",
    "    ,diabetes_flag string\n",
    "    ,ischemic_heart_disease_flag string\n",
    "    ,osteoporosis_flag string\n",
    "    ,asrheumatoid_arthritis_flag string\n",
    "    ,stroke_transient_ischemic_attack_flag string\n",
    "    ,CONSTRAINT feature_beneficiary_pk PRIMARY KEY(beneficiary_code)\n",
    ")\n",
    "TBLPROPERTIES (delta.enableChangeDataFeed = true);"
   ]
  },
  {
   "cell_type": "code",
   "execution_count": null,
   "metadata": {},
   "outputs": [],
   "source": [
    "%sql\n",
    "CREATE OR REPLACE TEMP VIEW vw_feature_beneficiary as \n",
    "SELECT\n",
    "    a.beneficiary_code,\n",
    "    a.date_of_birth,\n",
    "    a.date_of_death,\n",
    "    a.gender,\n",
    "    a.race,\n",
    "    a.esrd_flag,\n",
    "    a.state,\n",
    "    a.county_code,\n",
    "    a.heart_failure_flag,\n",
    "    a.cronic_kidney_disease_flag,\n",
    "    a.cancer_flag,\n",
    "    a.copd_flag,\n",
    "    a.depression_flag,\n",
    "    a.diabetes_flag,\n",
    "    a.ischemic_heart_disease_flag,\n",
    "    a.osteoporosis_flag,\n",
    "    a.asrheumatoid_arthritis_flag,\n",
    "    a.stroke_transient_ischemic_attack_flag,\n",
    "    b.claim_amount\n",
    "FROM\n",
    "    cms.gold_dim_beneficiary AS a\n",
    "INNER JOIN (\n",
    "    SELECT\n",
    "        d.beneficiary_code,\n",
    "        SUM(f.claim_payment_amount) AS claim_amount\n",
    "    FROM\n",
    "        cms.gold_fact_patient_claims AS f\n",
    "    JOIN\n",
    "        cms.gold_dim_beneficiary AS d ON f.beneficiary_key = d.beneficiary_key\n",
    "    GROUP BY\n",
    "        d.beneficiary_code\n",
    ") AS b ON b.beneficiary_code = a.beneficiary_code\n",
    "WHERE\n",
    "    a.__END_AT IS NULL"
   ]
  },
  {
   "cell_type": "code",
   "execution_count": null,
   "metadata": {},
   "outputs": [],
   "source": [
    "%sql\n",
    "MERGE INTO ai.feature_beneficiary\n",
    "USING vw_feature_beneficiary\n",
    "  ON vw_feature_beneficiary.beneficiary_code = ai.feature_beneficiary.beneficiary_code\n",
    "WHEN MATCHED THEN UPDATE SET *\n",
    "WHEN NOT MATCHED THEN INSERT *"
   ]
  }
 ],
 "metadata": {
  "application/vnd.databricks.v1+notebook": {
   "dashboards": [],
   "environmentMetadata": {
    "base_environment": "",
    "client": "1"
   },
   "language": "python",
   "notebookMetadata": {
    "pythonIndentUnit": 2
   },
   "notebookName": "Feature Store - Beneficiary",
   "widgets": {}
  },
  "language_info": {
   "name": "python"
  }
 },
 "nbformat": 4,
 "nbformat_minor": 0
}
