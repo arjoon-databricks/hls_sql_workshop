{
 "cells": [
  {
   "cell_type": "code",
   "execution_count": null,
   "metadata": {
    "application/vnd.databricks.v1+cell": {
     "cellMetadata": {},
     "inputWidgets": {},
     "nuid": "1b07e6d0-88ff-4ab7-b496-1ce270c07c5b",
     "showTitle": false,
     "tableResultSettingsMap": {},
     "title": ""
    }
   },
   "outputs": [],
   "source": [
    "# create widgets\n",
    "dbutils.widgets.text('catalog', 'ddavis_hls_sql')\n",
    "dbutils.widgets.text('schema', 'cms')\n",
    "dbutils.widgets.text('volume', 'raw_files')"
   ]
  },
  {
   "cell_type": "code",
   "execution_count": null,
   "metadata": {
    "application/vnd.databricks.v1+cell": {
     "cellMetadata": {},
     "inputWidgets": {},
     "nuid": "9ce00d99-857a-49db-8186-8f103c4933c2",
     "showTitle": false,
     "tableResultSettingsMap": {},
     "title": ""
    }
   },
   "outputs": [],
   "source": [
    "# assign parameters to variables\n",
    "catalog = dbutils.widgets.get(name = \"catalog\")\n",
    "schema = dbutils.widgets.get(name = \"schema\")\n",
    "volume = dbutils.widgets.get(name = \"volume\")\n",
    "volume_path = f\"/Volumes/{catalog}/{schema}/{volume}/\"\n",
    "current_user = spark.sql(\"SELECT current_user()\").collect()[0][0]\n",
    "\n",
    "# print values\n",
    "print(f\"\"\"\n",
    "  catalog = {catalog}\n",
    "  schema = {schema}\n",
    "  volume = {volume_path}\n",
    "  current_user = {current_user}\n",
    "\"\"\")"
   ]
  },
  {
   "cell_type": "code",
   "execution_count": null,
   "metadata": {
    "application/vnd.databricks.v1+cell": {
     "cellMetadata": {},
     "inputWidgets": {},
     "nuid": "97ae92d4-2435-4c07-a685-331640bf144e",
     "showTitle": true,
     "tableResultSettingsMap": {},
     "title": "create, use, and check catalog"
    }
   },
   "outputs": [],
   "source": [
    "%sql\n",
    "--create, use, and check catalog\n",
    "create catalog if not exists ${catalog};\n",
    "use catalog ${catalog};\n",
    "select current_catalog();"
   ]
  },
  {
   "cell_type": "code",
   "execution_count": null,
   "metadata": {},
   "outputs": [],
   "source": [
    "%sql\n",
    "--create gold schema\n",
    "create schema if not exists gold;\n",
    "\n",
    "--create ai schema\n",
    "create schema if not exists ai;"
   ]
  },
  {
   "cell_type": "code",
   "execution_count": null,
   "metadata": {
    "application/vnd.databricks.v1+cell": {
     "cellMetadata": {},
     "inputWidgets": {},
     "nuid": "8bb3adf2-ab9f-4587-a339-6a3302006d0f",
     "showTitle": true,
     "tableResultSettingsMap": {},
     "title": "create, use, and check schema"
    }
   },
   "outputs": [],
   "source": [
    "%sql\n",
    "--create, use, and check schema\n",
    "create schema if not exists ${catalog};\n",
    "use schema ${catalog};\n",
    "select current_schema();"
   ]
  },
  {
   "cell_type": "code",
   "execution_count": null,
   "metadata": {
    "application/vnd.databricks.v1+cell": {
     "cellMetadata": {},
     "inputWidgets": {},
     "nuid": "f1f5ee97-ef1a-496a-b794-a28ab1ed5a2b",
     "showTitle": false,
     "tableResultSettingsMap": {},
     "title": ""
    }
   },
   "outputs": [],
   "source": [
    "%sql\n",
    "--create volume\n",
    "create volume if not exists ${volume};"
   ]
  },
  {
   "cell_type": "code",
   "execution_count": null,
   "metadata": {},
   "outputs": [],
   "source": [
    "spark.sql(f'GRANT ALL PRIVILEGES ON CATALOG {catalog} TO `{current_user}`')\n",
    "spark.sql(f'GRANT BROWSE ON CATALOG {catalog} TO `account users`;')\n",
    "spark.sql(f'GRANT EXECUTE ON CATALOG {catalog} TO `account users`;')\n",
    "spark.sql(f'GRANT READ VOLUME ON CATALOG {catalog} TO `account users`;')\n",
    "spark.sql(f'GRANT SELECT ON CATALOG {catalog} TO `account users`;')\n",
    "spark.sql(f'GRANT USE CATALOG ON CATALOG {catalog} TO `account users`;')\n",
    "spark.sql(f'GRANT USE SCHEMA ON CATALOG {catalog} TO `account users`;')"
   ]
  }
 ],
 "metadata": {
  "application/vnd.databricks.v1+notebook": {
   "dashboards": [],
   "environmentMetadata": {
    "base_environment": "",
    "client": "1"
   },
   "language": "python",
   "notebookMetadata": {
    "pythonIndentUnit": 2
   },
   "notebookName": "uc-setup",
   "widgets": {}
  },
  "language_info": {
   "name": "python"
  }
 },
 "nbformat": 4,
 "nbformat_minor": 0
}
