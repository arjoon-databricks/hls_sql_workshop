{
 "cells": [
  {
   "cell_type": "code",
   "execution_count": null,
   "metadata": {
    "application/vnd.databricks.v1+cell": {
     "cellMetadata": {
      "byteLimit": 2048000,
      "rowLimit": 10000
     },
     "inputWidgets": {},
     "nuid": "777add43-4603-4b4e-9317-b4f97c91491d",
     "showTitle": false,
     "tableResultSettingsMap": {},
     "title": ""
    }
   },
   "outputs": [],
   "source": [
    "# create widgets\n",
    "dbutils.widgets.text('catalog', 'ddavis_hls_sql')\n",
    "dbutils.widgets.text('schema', 'cms')\n",
    "dbutils.widgets.text('volume', 'raw_files')"
   ]
  },
  {
   "cell_type": "code",
   "execution_count": null,
   "metadata": {
    "application/vnd.databricks.v1+cell": {
     "cellMetadata": {
      "byteLimit": 2048000,
      "rowLimit": 10000
     },
     "inputWidgets": {},
     "nuid": "9da6ddbf-408c-4e4b-bdd7-fb1aa42928ce",
     "showTitle": false,
     "tableResultSettingsMap": {},
     "title": ""
    }
   },
   "outputs": [
    {
     "name": "stdout",
     "output_type": "stream",
     "text": [
      "\n",
      "  catalog = ddavis_hls_sql\n",
      "  schema = cms\n",
      "  volume = /Volumes/ddavis_hls_sql/cms/raw_files/medicare_claims\n",
      "\n"
     ]
    }
   ],
   "source": [
    "# assign parameters to variables\n",
    "catalog = dbutils.widgets.get(name = \"catalog\")\n",
    "schema = dbutils.widgets.get(name = \"schema\")\n",
    "volume = dbutils.widgets.get(name = \"volume\")\n",
    "volume_path = f\"/Volumes/{catalog}/{schema}/{volume}/medicare_claims\"\n",
    "\n",
    "# print values\n",
    "print(f\"\"\"\n",
    "  catalog = {catalog}\n",
    "  schema = {schema}\n",
    "  volume = {volume_path}\n",
    "\"\"\")"
   ]
  },
  {
   "cell_type": "code",
   "execution_count": null,
   "metadata": {
    "application/vnd.databricks.v1+cell": {
     "cellMetadata": {
      "byteLimit": 2048000,
      "rowLimit": 10000
     },
     "inputWidgets": {},
     "nuid": "89b9700e-36f7-46c7-928e-34c6a3d03cbf",
     "showTitle": false,
     "tableResultSettingsMap": {},
     "title": ""
    }
   },
   "outputs": [
    {
     "name": "stdout",
     "output_type": "stream",
     "text": [
      "Checking if folder exists in volume. Folder: beneficiary_summary\n",
      "  Folder already exists in volume. Skipping copy.\n",
      "Checking if folder exists in volume. Folder: carrier_claims\n",
      "  Folder already exists in volume. Skipping copy.\n",
      "Checking if folder exists in volume. Folder: date\n",
      "  Folder already exists in volume. Skipping copy.\n",
      "Checking if folder exists in volume. Folder: icd\n",
      "  Folder already exists in volume. Skipping copy.\n",
      "Checking if folder exists in volume. Folder: inpatient_claims\n",
      "  Folder already exists in volume. Skipping copy.\n",
      "Checking if folder exists in volume. Folder: lookups\n",
      "  Folder already exists in volume. Skipping copy.\n",
      "Checking if folder exists in volume. Folder: npi_code\n",
      "Path does not exist. Copying files from source to target \n",
      " source: wasbs://cmsdata@hlssqlworkshopsa.blob.core.windows.net/npi_code/ \n",
      " target: /Volumes/ddavis_hls_sql/cms/raw_files/medicare_claims/npi_code\n",
      "Checking if folder exists in volume. Folder: outpatient_claims\n",
      "  Folder already exists in volume. Skipping copy.\n",
      "Checking if folder exists in volume. Folder: prescription_drug_events\n",
      "  Folder already exists in volume. Skipping copy.\n"
     ]
    }
   ],
   "source": [
    "# define source location of data, which is blob storage\n",
    "blob = \"wasbs://cmsdata@hlssqlworkshopsa.blob.core.windows.net/\"\n",
    "\n",
    "# define folders to check if exist\n",
    "folders_to_check = ['beneficiary_summary', 'carrier_claims', 'date', 'icd_codes', 'inpatient_claims', 'lookups', 'npi_code', 'outpatient_claims', 'prescription_drug_events']\n",
    "\n",
    "# check if folders already exist in volume. If not, copy the data over\n",
    "for folder in folders_to_check:\n",
    "  target = f\"{volume_path}/{folder}\"\n",
    "  try:\n",
    "    print(f'Checking if folder exists in volume. Folder: {folder}')\n",
    "    dbutils.fs.ls(f\"{target}\")\n",
    "    print(f'  Folder already exists in volume. Skipping copy.')\n",
    "  except:\n",
    "    source = f'{blob}{folder}/'\n",
    "    print(f'Path does not exist. Copying files from source to target \\n source: {source} \\n target: {target}')\n",
    "    dbutils.fs.cp(source, target, True)"
   ]
  }
 ],
 "metadata": {
  "application/vnd.databricks.v1+notebook": {
   "dashboards": [],
   "environmentMetadata": {
    "base_environment": "",
    "client": "1"
   },
   "language": "python",
   "notebookMetadata": {
    "pythonIndentUnit": 2
   },
   "notebookName": "copy_files_to_volume",
   "widgets": {
    "catalog": {
     "currentValue": "ddavis_hls_sql",
     "nuid": "e3b07832-184b-4964-ba81-0fad8ad44b0d",
     "typedWidgetInfo": {
      "autoCreated": false,
      "defaultValue": "ddavis_hls_sql",
      "label": null,
      "name": "catalog",
      "options": {
       "validationRegex": null,
       "widgetDisplayType": "Text"
      },
      "parameterDataType": "String"
     },
     "widgetInfo": {
      "defaultValue": "ddavis_hls_sql",
      "label": null,
      "name": "catalog",
      "options": {
       "autoCreated": null,
       "validationRegex": null,
       "widgetType": "text"
      },
      "widgetType": "text"
     }
    },
    "schema": {
     "currentValue": "cms",
     "nuid": "9e03db00-66a1-40dd-b53b-a8a28faf049e",
     "typedWidgetInfo": {
      "autoCreated": false,
      "defaultValue": "cms",
      "label": null,
      "name": "schema",
      "options": {
       "validationRegex": null,
       "widgetDisplayType": "Text"
      },
      "parameterDataType": "String"
     },
     "widgetInfo": {
      "defaultValue": "cms",
      "label": null,
      "name": "schema",
      "options": {
       "autoCreated": null,
       "validationRegex": null,
       "widgetType": "text"
      },
      "widgetType": "text"
     }
    },
    "volume": {
     "currentValue": "raw_files",
     "nuid": "bf31c3d0-c77c-428e-90b7-49acf8bf8887",
     "typedWidgetInfo": {
      "autoCreated": false,
      "defaultValue": "raw_files",
      "label": null,
      "name": "volume",
      "options": {
       "validationRegex": null,
       "widgetDisplayType": "Text"
      },
      "parameterDataType": "String"
     },
     "widgetInfo": {
      "defaultValue": "raw_files",
      "label": null,
      "name": "volume",
      "options": {
       "autoCreated": null,
       "validationRegex": null,
       "widgetType": "text"
      },
      "widgetType": "text"
     }
    }
   }
  },
  "language_info": {
   "name": "python"
  }
 },
 "nbformat": 4,
 "nbformat_minor": 0
}
