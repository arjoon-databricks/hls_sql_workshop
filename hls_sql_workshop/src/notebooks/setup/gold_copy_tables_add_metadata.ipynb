{
 "cells": [
  {
   "cell_type": "code",
   "execution_count": null,
   "metadata": {
    "application/vnd.databricks.v1+cell": {
     "cellMetadata": {
      "byteLimit": 2048000,
      "rowLimit": 10000
     },
     "inputWidgets": {},
     "nuid": "6566f32b-33ff-4a32-add6-aa930bee507a",
     "showTitle": false,
     "tableResultSettingsMap": {},
     "title": ""
    }
   },
   "outputs": [
    {
     "data": {
      "text/plain": [
       "DataFrame[]"
      ]
     },
     "execution_count": 5,
     "metadata": {},
     "output_type": "execute_result"
    }
   ],
   "source": [
    "# create widgets\n",
    "dbutils.widgets.text('catalog', 'sql_workshop')\n",
    "dbutils.widgets.text('schema', 'cms')\n",
    "\n",
    "# assign widget value to variable\n",
    "catalog = dbutils.widgets.get('catalog')\n",
    "schema = dbutils.widgets.get('schema')\n",
    "\n",
    "# specify catalog to use\n",
    "spark.sql(f'USE CATALOG {catalog}')\n",
    "spark.sql(f'USE SCHEMA {schema}')"
   ]
  },
  {
   "cell_type": "code",
   "execution_count": null,
   "metadata": {
    "application/vnd.databricks.v1+cell": {
     "cellMetadata": {},
     "inputWidgets": {},
     "nuid": "48f2a40e-17e3-43d6-99c6-8d97970c392e",
     "showTitle": false,
     "tableResultSettingsMap": {},
     "title": ""
    }
   },
   "outputs": [],
   "source": [
    "%sql\n",
    "create or replace table gold.dim_date\n",
    "as select * from gold_dim_date;\n",
    "create or replace table gold.dim_diagnosis\n",
    "as select * from gold_dim_diagnosis;\n",
    "create or replace table gold.dim_provider\n",
    "as select * from gold_dim_provider;\n",
    "create or replace table gold.fact_carrier_claims\n",
    "as select * from gold_fact_carrier_claims;\n",
    "create or replace table gold.fact_patient_claims\n",
    "as select * from gold_fact_patient_claims;\n",
    "create or replace table gold.fact_prescription_drug_events\n",
    "as select * from gold_fact_prescription_drug_events;\n",
    "create or replace table gold.dim_beneficiary\n",
    "as select * from gold_dim_beneficiary;\n",
    "------------------------\n",
    "alter table gold.dim_beneficiary alter column beneficiary_key set not null;\n",
    "alter table gold.dim_date alter column date set not null;\n",
    "alter table gold.dim_diagnosis alter column diagnosis_key set not null;\n",
    "alter table gold.dim_provider alter column provider_key set not null;\n",
    "alter table gold.dim_beneficiary add constraint  beneficiary_pk primary key (beneficiary_key);\n",
    "alter table gold.dim_date add constraint  date_pk primary key (date);\n",
    "alter table gold.dim_diagnosis add constraint diagnosis_pk primary key (diagnosis_key);\n",
    "alter table gold.dim_provider add constraint provider_pk primary key (provider_key);\n",
    "alter table gold.fact_carrier_claims add constraint beneficiary_fk foreign key (beneficiary_key) references gold.dim_beneficiary;\n",
    "alter table gold.fact_carrier_claims   add constraint claim_start_date_fk foreign key (claim_start_date) references gold.dim_date;\n",
    "alter table gold.fact_carrier_claims   add constraint diagnosis_key_1_fk foreign key (diagnosis_key_1) references gold.dim_diagnosis;\n",
    "alter table gold.fact_patient_claims add constraint pc_beneficiary_fk foreign key (beneficiary_key) references gold.dim_beneficiary;\n",
    "alter table gold.fact_patient_claims   add constraint pc_claim_start_date_fk foreign key (claim_start_date) references gold.dim_date;\n",
    "alter table gold.fact_patient_claims   add constraint pc_diagnosis_key_1_fk foreign key (diagnosis_key_1) references gold.dim_diagnosis;\n",
    "alter table gold.fact_patient_claims   add constraint pc_attending_physician_provider_key_fk foreign key (attending_physician_provider_key) references gold.dim_provider;\n",
    "alter table gold.fact_prescription_drug_events add constraint pde_beneficiary_fk foreign key (beneficiary_key) references gold.dim_beneficiary;\n",
    "alter table gold.fact_prescription_drug_events   add constraint pde_rx_service_date_fk foreign key (rx_service_date) references gold.dim_date;"
   ]
  }
 ],
 "metadata": {
  "application/vnd.databricks.v1+notebook": {
   "dashboards": [],
   "environmentMetadata": {
    "base_environment": "",
    "client": "1"
   },
   "language": "python",
   "notebookMetadata": {
    "pythonIndentUnit": 2
   },
   "notebookName": "gold_copy_tables_add_metadata",
   "widgets": {
    "catalog": {
     "currentValue": "ddavis_demo",
     "nuid": "173aaa13-84c5-4d62-9de3-dbcfeb1ebbe9",
     "typedWidgetInfo": {
      "autoCreated": false,
      "defaultValue": "dev",
      "label": null,
      "name": "catalog",
      "options": {
       "validationRegex": null,
       "widgetDisplayType": "Text"
      },
      "parameterDataType": "String"
     },
     "widgetInfo": {
      "defaultValue": "dev",
      "label": null,
      "name": "catalog",
      "options": {
       "autoCreated": null,
       "validationRegex": null,
       "widgetType": "text"
      },
      "widgetType": "text"
     }
    }
   }
  },
  "language_info": {
   "name": "python"
  }
 },
 "nbformat": 4,
 "nbformat_minor": 0
}
