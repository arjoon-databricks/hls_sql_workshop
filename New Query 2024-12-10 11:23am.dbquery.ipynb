{
 "cells": [
  {
   "cell_type": "code",
   "execution_count": 0,
   "metadata": {
    "application/vnd.databricks.v1+cell": {
     "cellMetadata": {
      "byteLimit": 10485760,
      "rowLimit": 64000
     },
     "inputWidgets": {},
     "nuid": "f19b313a-ce66-40bc-9e77-6fafcc4e1e1c",
     "showTitle": false,
     "tableResultSettingsMap": {},
     "title": ""
    }
   },
   "outputs": [],
   "source": [
    "SELECT \n",
    "*\n",
    "FROM \n",
    " audit\n",
    "WHERE \n",
    " action_name IN ('addPrincipalToGroup', 'createGroup', 'getGroupMembers', 'getGroups', 'getInheritedGroups', 'removeGroup') \n",
    " limit 100"
   ]
  }
 ],
 "metadata": {
  "application/vnd.databricks.v1+notebook": {
   "computePreferences": null,
   "dashboards": [],
   "environmentMetadata": null,
   "language": "sql",
   "notebookMetadata": {
    "pythonIndentUnit": 2,
    "sqlQueryOptions": {
     "applyAutoLimit": false,
     "catalog": "system",
     "schema": "access"
    }
   },
   "notebookName": "New Query 2024-12-10 11:23am.dbquery.ipynb",
   "widgets": {}
  },
  "language_info": {
   "name": "sql"
  }
 },
 "nbformat": 4,
 "nbformat_minor": 0
}
