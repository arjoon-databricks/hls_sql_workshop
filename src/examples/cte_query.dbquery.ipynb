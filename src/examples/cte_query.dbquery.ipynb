{
 "cells": [
  {
   "cell_type": "code",
   "execution_count": 0,
   "metadata": {
    "application/vnd.databricks.v1+cell": {
     "cellMetadata": {
      "byteLimit": 10485760,
      "rowLimit": 64000
     },
     "inputWidgets": {},
     "nuid": "0be45128-251f-44cd-8506-062bf2c52431",
     "showTitle": false,
     "tableResultSettingsMap": {},
     "title": ""
    }
   },
   "outputs": [],
   "source": [
    "-- CTE to calculate the total number of claims for each beneficiary\n",
    "WITH claim_count_by_beneficiary AS (\n",
    "    SELECT\n",
    "        COUNT(claim_id) AS claim_count,\n",
    "        beneficiary_key\n",
    "    FROM\n",
    "        gold.fact_patient_claims\n",
    "    GROUP BY\n",
    "        beneficiary_key\n",
    "),\n",
    "-- CTE to calculate claim counts and number of beneficiaries by demographic (age, gender, state)\n",
    "claim_counts_by_demographic AS (\n",
    "    SELECT\n",
    "        COUNT(fpc.claim_id) AS claim_count,\n",
    "        COUNT(DISTINCT b.beneficiary_key) AS number_of_beneficiaries,\n",
    "        gold.GET_AGE(b.date_of_birth) AS age,\n",
    "        b.gender,\n",
    "        b.state\n",
    "    FROM\n",
    "        gold.dim_beneficiary AS b\n",
    "    JOIN\n",
    "        gold.fact_patient_claims AS fpc ON b.beneficiary_key = fpc.beneficiary_key\n",
    "    GROUP BY\n",
    "        b.gender,\n",
    "        b.state,\n",
    "        gold.GET_AGE(b.date_of_birth)\n",
    "),\n",
    "\n",
    "-- CTE to calculate the first claim start date for each beneficiary\n",
    "first_claim_date_by_beneficiary AS (\n",
    "    SELECT\n",
    "        beneficiary_key,\n",
    "        MIN(claim_start_date) AS first_claim_date\n",
    "    FROM\n",
    "        gold.fact_patient_claims\n",
    "    GROUP BY\n",
    "        beneficiary_key\n",
    ")\n",
    "\n",
    "-- Final SELECT statement to retrieve beneficiary details, total claims, average claims per demographic, and first claim start date\n",
    "SELECT\n",
    "    b.beneficiary_key,\n",
    "    b.gender,\n",
    "    b.state,\n",
    "    gold.GET_AGE(b.date_of_birth) AS age,\n",
    "    ccb.claim_count,\n",
    "    ccd.claim_count / ccd.number_of_beneficiaries AS avg_claims_per_demographic,\n",
    "    fcd.first_claim_date\n",
    "FROM\n",
    "    gold.dim_beneficiary AS b\n",
    "JOIN\n",
    "    claim_count_by_beneficiary AS ccb ON b.beneficiary_key = ccb.beneficiary_key\n",
    "JOIN\n",
    "    claim_counts_by_demographic AS ccd ON b.gender = ccd.gender\n",
    "    AND b.state = ccd.state\n",
    "    AND gold.GET_AGE(b.date_of_birth) = ccd.age\n",
    "JOIN\n",
    "    first_claim_date_by_beneficiary AS fcd ON b.beneficiary_key = fcd.beneficiary_key"
   ]
  }
 ],
 "metadata": {
  "application/vnd.databricks.v1+notebook": {
   "computePreferences": null,
   "dashboards": [],
   "environmentMetadata": null,
   "language": "sql",
   "notebookMetadata": {
    "pythonIndentUnit": 2,
    "sqlQueryOptions": {
     "applyAutoLimit": false,
     "catalog": "hls_sql_workshop",
     "schema": "gold"
    }
   },
   "notebookName": "cte_query.dbquery.ipynb",
   "widgets": {}
  },
  "language_info": {
   "name": "sql"
  }
 },
 "nbformat": 4,
 "nbformat_minor": 0
}
