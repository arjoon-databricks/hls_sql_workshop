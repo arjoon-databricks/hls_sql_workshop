{
 "cells": [
  {
   "cell_type": "code",
   "execution_count": 0,
   "metadata": {
    "application/vnd.databricks.v1+cell": {
     "cellMetadata": {
      "byteLimit": 10485760,
      "rowLimit": 64000
     },
     "inputWidgets": {},
     "nuid": "5a9e7993-cf66-4e98-936b-5734ee233ec7",
     "showTitle": false,
     "tableResultSettingsMap": {},
     "title": ""
    }
   },
   "outputs": [],
   "source": [
    "-- Create a table to store the results\n",
    "CREATE OR REPLACE MATERIALIZED VIEW gold.ddavis_beneficiary_claims_mv AS\n",
    "\n",
    "-- CTE to calculate claim counts and number of beneficiaries by demographic (age, gender, state)\n",
    "WITH claim_counts_by_demographic AS (\n",
    "    SELECT \n",
    "        COUNT(fpc.claim_id) AS claim_count, \n",
    "        COUNT(DISTINCT b.beneficiary_key) AS number_of_beneficiaries,\n",
    "        GET_AGE(b.date_of_birth) AS age, \n",
    "        b.gender, \n",
    "        b.state\n",
    "    FROM \n",
    "        gold.dim_beneficiary b\n",
    "    JOIN \n",
    "        gold.fact_patient_claims fpc\n",
    "    ON \n",
    "        b.beneficiary_key = fpc.beneficiary_key\n",
    "    GROUP BY \n",
    "        b.gender, \n",
    "        b.state, \n",
    "        b.date_of_birth, \n",
    "        age\n",
    "),\n",
    "\n",
    "-- CTE to calculate the total number of claims for each beneficiary\n",
    "claim_count_by_beneficiary AS (\n",
    "    SELECT \n",
    "        COUNT(claim_id) AS claim_count, \n",
    "        beneficiary_key\n",
    "    FROM \n",
    "        hls_sql_workshop.gold.fact_patient_claims\n",
    "    GROUP BY \n",
    "        beneficiary_key\n",
    "),\n",
    "\n",
    "-- CTE to calculate the first claim start date for each beneficiary\n",
    "first_claim_date_by_beneficiary AS (\n",
    "    SELECT \n",
    "        beneficiary_key, \n",
    "        MIN(claim_start_date) AS first_claim_date\n",
    "    FROM \n",
    "        hls_sql_workshop.gold.fact_patient_claims\n",
    "    GROUP BY \n",
    "        beneficiary_key\n",
    ")\n",
    "\n",
    "-- Final SELECT statement to retrieve beneficiary details, total claims, average claims per demographic, and first claim start date\n",
    "SELECT \n",
    "    ccb.beneficiary_key, \n",
    "    b.gender, \n",
    "    b.state,  \n",
    "    GET_AGE(b.date_of_birth) AS age, \n",
    "    ccb.claim_count, \n",
    "    ccd.claim_count / ccd.number_of_beneficiaries AS avg_claims_per_demographic\n",
    "    --fcd.first_claim_date\n",
    "FROM \n",
    "    hls_sql_workshop.gold.dim_beneficiary b\n",
    "JOIN \n",
    "    claim_count_by_beneficiary ccb \n",
    "ON \n",
    "    b.beneficiary_key = ccb.beneficiary_key\n",
    "JOIN \n",
    "    claim_counts_by_demographic ccd \n",
    "ON \n",
    "    b.gender = ccd.gender \n",
    "    AND b.state = ccd.state \n",
    "    AND GET_AGE(b.date_of_birth) = ccd.age\n",
    "JOIN \n",
    "     first_claim_date_by_beneficiary fcd \n",
    "ON \n",
    "   b.beneficiary_key = fcd.beneficiary_key"
   ]
  }
 ],
 "metadata": {
  "application/vnd.databricks.v1+notebook": {
   "computePreferences": null,
   "dashboards": [],
   "environmentMetadata": null,
   "language": "sql",
   "notebookMetadata": {
    "pythonIndentUnit": 2,
    "sqlQueryOptions": {
     "applyAutoLimit": false,
     "catalog": "hls_sql_workshop",
     "schema": "gold"
    }
   },
   "notebookName": "create_materialized_view.dbquery.ipynb",
   "widgets": {}
  },
  "language_info": {
   "name": "sql"
  }
 },
 "nbformat": 4,
 "nbformat_minor": 0
}
