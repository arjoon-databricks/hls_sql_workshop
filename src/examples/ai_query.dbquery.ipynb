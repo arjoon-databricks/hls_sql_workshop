{
 "cells": [
  {
   "cell_type": "code",
   "execution_count": 0,
   "metadata": {
    "application/vnd.databricks.v1+cell": {
     "cellMetadata": {
      "byteLimit": 10485760,
      "rowLimit": 64000
     },
     "inputWidgets": {},
     "nuid": "f19b313a-ce66-40bc-9e77-6fafcc4e1e1c",
     "showTitle": false,
     "tableResultSettingsMap": {},
     "title": ""
    }
   },
   "outputs": [],
   "source": [
    "-- declare variables\n",
    "DECLARE OR REPLACE VARIABLE catalog STRING DEFAULT 'ddavis_demo_dev';\n",
    "\n",
    "-- set the value of the variables (remember to update the parameter value for catalog)\n",
    "SET VARIABLE catalog = :`catalog`;\n",
    "\n",
    "-- Executes a SQL statement provided as a STRING\n",
    "EXECUTE IMMEDIATE \"USE IDENTIFIER(catalog || '.gold')\";\n",
    "\n",
    "-- create a CTE with features (using the beneficiary code FK to lookup features in gold.dim_beneficiary)\n",
    "WITH beneficiary_data AS (\n",
    " SELECT\n",
    "    STRUCT(\n",
    "        cast(beneficiary_code as string) as beneficiary_code\n",
    "    ) AS features, \n",
    "    gender,\n",
    "    race,\n",
    "    state\n",
    " FROM gold.dim_beneficiary \n",
    " limit 100\n",
    ")\n",
    "-- query predict_claims_amount model serving endpoint with a model schema:\n",
    "SELECT *\n",
    "   ,ai_query('predict_claims_amount'\n",
    "             ,features\n",
    "             ,returnType => \"DOUBLE\") as predicted_claims_amount\n",
    "FROM beneficiary_data limit 100"
   ]
  }
 ],
 "metadata": {
  "application/vnd.databricks.v1+notebook": {
   "computePreferences": null,
   "dashboards": [],
   "environmentMetadata": null,
   "language": "sql",
   "notebookMetadata": {
    "pythonIndentUnit": 2,
    "sqlQueryOptions": {
     "applyAutoLimit": false,
     "catalog": "ddavis_hls_sql",
     "schema": "gold"
    }
   },
   "notebookName": "ai_query.dbquery.ipynb",
   "widgets": {
    "catalog": {
     "currentValue": "ddavis_hls_sql",
     "nuid": "f08cf6db-af80-4d5f-80ec-218a42033d80",
     "typedWidgetInfo": {
      "autoCreated": false,
      "defaultValue": "ddavis_hls_sql",
      "label": "default catalog",
      "name": "catalog",
      "options": {
       "widgetDisplayType": "Text",
       "validationRegex": null
      },
      "parameterDataType": "String"
     },
     "widgetInfo": {
      "widgetType": "text",
      "defaultValue": "ddavis_hls_sql",
      "label": "default catalog",
      "name": "catalog",
      "options": {
       "widgetType": "text",
       "autoCreated": false,
       "validationRegex": null
      }
     }
    }
   }
  },
  "language_info": {
   "name": "sql"
  }
 },
 "nbformat": 4,
 "nbformat_minor": 0
}
